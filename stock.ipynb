{
 "cells": [
  {
   "cell_type": "code",
   "execution_count": 1,
   "metadata": {},
   "outputs": [],
   "source": [
    "import numpy as np \n",
    "import pandas as pd  \n",
    "import matplotlib.pyplot as plt \n",
    "import seaborn as sns \n",
    "import yfinance as yf\n",
    "from datetime import datetime, timedelta\n",
    "import backtrader as bt\n"
   ]
  },
  {
   "cell_type": "code",
   "execution_count": 2,
   "metadata": {},
   "outputs": [],
   "source": [
    "plt.style.use('seaborn-v0_8')  \n",
    "plt.rcParams['figure.figsize'] = (16, 8)  \n",
    "plt.rcParams['font.size'] = 14  "
   ]
  },
  {
   "cell_type": "code",
   "execution_count": 3,
   "metadata": {},
   "outputs": [
    {
     "name": "stdout",
     "output_type": "stream",
     "text": [
      "YF.download() has changed argument auto_adjust default to True\n"
     ]
    },
    {
     "name": "stderr",
     "output_type": "stream",
     "text": [
      "[*********************100%***********************]  1 of 1 completed"
     ]
    },
    {
     "name": "stdout",
     "output_type": "stream",
     "text": [
      "The data is succesfully extracted for stock GRRR, from2022-3-27 to 2025-3-27，in total of 752 entries\n"
     ]
    },
    {
     "name": "stderr",
     "output_type": "stream",
     "text": [
      "\n"
     ]
    },
    {
     "data": {
      "text/html": [
       "<div>\n",
       "<style scoped>\n",
       "    .dataframe tbody tr th:only-of-type {\n",
       "        vertical-align: middle;\n",
       "    }\n",
       "\n",
       "    .dataframe tbody tr th {\n",
       "        vertical-align: top;\n",
       "    }\n",
       "\n",
       "    .dataframe thead tr th {\n",
       "        text-align: left;\n",
       "    }\n",
       "\n",
       "    .dataframe thead tr:last-of-type th {\n",
       "        text-align: right;\n",
       "    }\n",
       "</style>\n",
       "<table border=\"1\" class=\"dataframe\">\n",
       "  <thead>\n",
       "    <tr>\n",
       "      <th>Price</th>\n",
       "      <th>Close</th>\n",
       "      <th>High</th>\n",
       "      <th>Low</th>\n",
       "      <th>Open</th>\n",
       "      <th>Volume</th>\n",
       "    </tr>\n",
       "    <tr>\n",
       "      <th>Ticker</th>\n",
       "      <th>GRRR</th>\n",
       "      <th>GRRR</th>\n",
       "      <th>GRRR</th>\n",
       "      <th>GRRR</th>\n",
       "      <th>GRRR</th>\n",
       "    </tr>\n",
       "    <tr>\n",
       "      <th>Date</th>\n",
       "      <th></th>\n",
       "      <th></th>\n",
       "      <th></th>\n",
       "      <th></th>\n",
       "      <th></th>\n",
       "    </tr>\n",
       "  </thead>\n",
       "  <tbody>\n",
       "    <tr>\n",
       "      <th>2022-03-28</th>\n",
       "      <td>100.949997</td>\n",
       "      <td>101.000000</td>\n",
       "      <td>100.949997</td>\n",
       "      <td>101.0</td>\n",
       "      <td>810</td>\n",
       "    </tr>\n",
       "    <tr>\n",
       "      <th>2022-03-29</th>\n",
       "      <td>101.000000</td>\n",
       "      <td>101.099998</td>\n",
       "      <td>101.000000</td>\n",
       "      <td>101.0</td>\n",
       "      <td>7820</td>\n",
       "    </tr>\n",
       "    <tr>\n",
       "      <th>2022-03-30</th>\n",
       "      <td>101.000000</td>\n",
       "      <td>101.000000</td>\n",
       "      <td>101.000000</td>\n",
       "      <td>101.0</td>\n",
       "      <td>280</td>\n",
       "    </tr>\n",
       "    <tr>\n",
       "      <th>2022-03-31</th>\n",
       "      <td>100.900002</td>\n",
       "      <td>101.000000</td>\n",
       "      <td>100.900002</td>\n",
       "      <td>101.0</td>\n",
       "      <td>3240</td>\n",
       "    </tr>\n",
       "    <tr>\n",
       "      <th>2022-04-01</th>\n",
       "      <td>101.000000</td>\n",
       "      <td>101.000000</td>\n",
       "      <td>101.000000</td>\n",
       "      <td>101.0</td>\n",
       "      <td>220</td>\n",
       "    </tr>\n",
       "  </tbody>\n",
       "</table>\n",
       "</div>"
      ],
      "text/plain": [
       "Price            Close        High         Low   Open Volume\n",
       "Ticker            GRRR        GRRR        GRRR   GRRR   GRRR\n",
       "Date                                                        \n",
       "2022-03-28  100.949997  101.000000  100.949997  101.0    810\n",
       "2022-03-29  101.000000  101.099998  101.000000  101.0   7820\n",
       "2022-03-30  101.000000  101.000000  101.000000  101.0    280\n",
       "2022-03-31  100.900002  101.000000  100.900002  101.0   3240\n",
       "2022-04-01  101.000000  101.000000  101.000000  101.0    220"
      ]
     },
     "execution_count": 3,
     "metadata": {},
     "output_type": "execute_result"
    }
   ],
   "source": [
    "# ticker_symbol = '002745.SZ'\n",
    "ticker_symbol = 'GRRR'\n",
    "\n",
    "start_date = '2022-3-27'  \n",
    "end_date = '2025-3-27'\n",
    "\n",
    "stock_data = yf.download(ticker_symbol, start=start_date, end=end_date)\n",
    "print(f\"The data is succesfully extracted for stock {ticker_symbol}, from{ start_date} to {end_date}，in total of {len(stock_data)} entries\") \n",
    "stock_data.head()"
   ]
  },
  {
   "cell_type": "code",
   "execution_count": 4,
   "metadata": {},
   "outputs": [
    {
     "data": {
      "text/html": [
       "<div>\n",
       "<style scoped>\n",
       "    .dataframe tbody tr th:only-of-type {\n",
       "        vertical-align: middle;\n",
       "    }\n",
       "\n",
       "    .dataframe tbody tr th {\n",
       "        vertical-align: top;\n",
       "    }\n",
       "\n",
       "    .dataframe thead th {\n",
       "        text-align: right;\n",
       "    }\n",
       "</style>\n",
       "<table border=\"1\" class=\"dataframe\">\n",
       "  <thead>\n",
       "    <tr style=\"text-align: right;\">\n",
       "      <th></th>\n",
       "      <th>Date</th>\n",
       "      <th>Open</th>\n",
       "      <th>High</th>\n",
       "      <th>Low</th>\n",
       "      <th>Close</th>\n",
       "      <th>Volume</th>\n",
       "    </tr>\n",
       "  </thead>\n",
       "  <tbody>\n",
       "    <tr>\n",
       "      <th>0</th>\n",
       "      <td>2022-03-28</td>\n",
       "      <td>100.949997</td>\n",
       "      <td>101.000000</td>\n",
       "      <td>100.949997</td>\n",
       "      <td>101.0</td>\n",
       "      <td>810</td>\n",
       "    </tr>\n",
       "    <tr>\n",
       "      <th>1</th>\n",
       "      <td>2022-03-29</td>\n",
       "      <td>101.000000</td>\n",
       "      <td>101.099998</td>\n",
       "      <td>101.000000</td>\n",
       "      <td>101.0</td>\n",
       "      <td>7820</td>\n",
       "    </tr>\n",
       "    <tr>\n",
       "      <th>2</th>\n",
       "      <td>2022-03-30</td>\n",
       "      <td>101.000000</td>\n",
       "      <td>101.000000</td>\n",
       "      <td>101.000000</td>\n",
       "      <td>101.0</td>\n",
       "      <td>280</td>\n",
       "    </tr>\n",
       "    <tr>\n",
       "      <th>3</th>\n",
       "      <td>2022-03-31</td>\n",
       "      <td>100.900002</td>\n",
       "      <td>101.000000</td>\n",
       "      <td>100.900002</td>\n",
       "      <td>101.0</td>\n",
       "      <td>3240</td>\n",
       "    </tr>\n",
       "    <tr>\n",
       "      <th>4</th>\n",
       "      <td>2022-04-01</td>\n",
       "      <td>101.000000</td>\n",
       "      <td>101.000000</td>\n",
       "      <td>101.000000</td>\n",
       "      <td>101.0</td>\n",
       "      <td>220</td>\n",
       "    </tr>\n",
       "  </tbody>\n",
       "</table>\n",
       "</div>"
      ],
      "text/plain": [
       "        Date        Open        High         Low  Close  Volume\n",
       "0 2022-03-28  100.949997  101.000000  100.949997  101.0     810\n",
       "1 2022-03-29  101.000000  101.099998  101.000000  101.0    7820\n",
       "2 2022-03-30  101.000000  101.000000  101.000000  101.0     280\n",
       "3 2022-03-31  100.900002  101.000000  100.900002  101.0    3240\n",
       "4 2022-04-01  101.000000  101.000000  101.000000  101.0     220"
      ]
     },
     "execution_count": 4,
     "metadata": {},
     "output_type": "execute_result"
    }
   ],
   "source": [
    "df = stock_data.copy()\n",
    "df.columns = stock_data.columns.droplevel(0) \n",
    "df.columns = ['Open', 'High', 'Low', 'Close', 'Volume']\n",
    "df.reset_index(inplace=True)\n",
    "df.head()"
   ]
  },
  {
   "cell_type": "code",
   "execution_count": null,
   "metadata": {},
   "outputs": [],
   "source": [
    "csv_file = f\"data/{ticker_symbol}_stock_data.csv\"\n",
    "stock_data.to_csv(csv_file)"
   ]
  },
  {
   "cell_type": "code",
   "execution_count": null,
   "metadata": {},
   "outputs": [],
   "source": [
    "def create_bt_data_feed(csv_file):  #\n",
    "    return bt.feeds.YahooFinanceCSVData(  \n",
    "        dataname=csv_file, \n",
    "        fromdate=datetime.strptime(start_date, '%Y-%m-%d'), \n",
    "        todate=datetime.strptime(end_date, '%Y-%m-%d'),\n",
    "        reverse=False  \n",
    "    )"
   ]
  },
  {
   "cell_type": "code",
   "execution_count": 12,
   "metadata": {},
   "outputs": [],
   "source": [
    "def run_backtest(strategy_class, data_feed, cash=100000.0, commission=0.001, **strategy_params):\n",
    "    \n",
    "    # Initialize Backtrader engine\n",
    "    cerebro = bt.Cerebro()\n",
    "    \n",
    "    # Add data feed\n",
    "    cerebro.adddata(data_feed)\n",
    "    \n",
    "    # Add strategy\n",
    "    cerebro.addstrategy(strategy_class, **strategy_params)\n",
    "    \n",
    "    # Set initial capital and commission\n",
    "    cerebro.broker.setcash(cash)\n",
    "    cerebro.broker.setcommission(commission=commission)\n",
    "    \n",
    "    # Add performance analyzers\n",
    "    cerebro.addanalyzer(bt.analyzers.SharpeRatio, _name='sharpe', riskfreerate=0.0)\n",
    "    cerebro.addanalyzer(bt.analyzers.DrawDown, _name='drawdown')\n",
    "    cerebro.addanalyzer(bt.analyzers.Returns, _name='returns')\n",
    "    \n",
    "    # Run backtest\n",
    "    initial_value = cerebro.broker.getvalue()\n",
    "    print(f'Initial Capital: ${initial_value:.2f}')\n",
    "    \n",
    "    results = cerebro.run()\n",
    "    strategy = results[0]\n",
    "    \n",
    "    \n",
    "    return cerebro, strategy, results"
   ]
  },
  {
   "cell_type": "code",
   "execution_count": null,
   "metadata": {},
   "outputs": [],
   "source": []
  }
 ],
 "metadata": {
  "kernelspec": {
   "display_name": "crypto",
   "language": "python",
   "name": "python3"
  },
  "language_info": {
   "codemirror_mode": {
    "name": "ipython",
    "version": 3
   },
   "file_extension": ".py",
   "mimetype": "text/x-python",
   "name": "python",
   "nbconvert_exporter": "python",
   "pygments_lexer": "ipython3",
   "version": "3.12.9"
  }
 },
 "nbformat": 4,
 "nbformat_minor": 2
}
