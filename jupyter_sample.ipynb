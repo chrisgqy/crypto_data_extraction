{
 "cells": [
  {
   "cell_type": "code",
   "execution_count": null,
   "metadata": {},
   "outputs": [],
   "source": [
    "import pandas as pd\n",
    "import time\n",
    "from bitmex import bitmex\n",
    "\n"
   ]
  },
  {
   "cell_type": "code",
   "execution_count": null,
   "metadata": {},
   "outputs": [],
   "source": [
    "binsizes = {\"1m\": 1, \"5m\": 5, \"15m\": 15, \"30m\": 30, \"1h\": 60, \"2h\":120, \"4h\": 240, \"6h\": 360, \"8h\": 480, \"1d\": 1440}\n",
    "batch_size = 750\n",
    "bitmex_client = bitmex(test=False, api_key=\"\", api_secret=\"\")\n"
   ]
  }
 ],
 "metadata": {
  "kernelspec": {
   "display_name": "crypto",
   "language": "python",
   "name": "python3"
  },
  "language_info": {
   "codemirror_mode": {
    "name": "ipython",
    "version": 3
   },
   "file_extension": ".py",
   "mimetype": "text/x-python",
   "name": "python",
   "nbconvert_exporter": "python",
   "pygments_lexer": "ipython3",
   "version": "3.11.11"
  }
 },
 "nbformat": 4,
 "nbformat_minor": 2
}
