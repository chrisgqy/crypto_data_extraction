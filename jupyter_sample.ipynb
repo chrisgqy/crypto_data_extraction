{
 "cells": [
  {
   "cell_type": "code",
   "execution_count": 61,
   "metadata": {},
   "outputs": [],
   "source": [
    "import math\n",
    "import numpy as np\n",
    "import pandas as pd\n",
    "import scipy\n",
    "import scipy.signal as sg\n",
    "\n",
    "import requests\n",
    "import time\n",
    "from datetime import datetime, timedelta\n",
    "\n",
    "import matplotlib.pyplot as plt\n"
   ]
  },
  {
   "cell_type": "code",
   "execution_count": 62,
   "metadata": {},
   "outputs": [
    {
     "name": "stdout",
     "output_type": "stream",
     "text": [
      "   timestamp       low      high      open     close      volume\n",
      "0 2025-01-01  92850.82  95152.46  93551.63  94595.69  419.531431\n",
      "1 2025-01-02  94384.72  97849.19  94604.24  97023.09  449.988917\n",
      "2 2025-01-03  96105.41  98985.11  97028.27  98180.77  304.594067\n",
      "3 2025-01-04  97536.31  98777.00  98265.11  98250.13   54.313027\n",
      "4 2025-01-05  97269.93  98842.08  98265.91  98426.14   58.142619\n"
     ]
    }
   ],
   "source": [
    "\n",
    "def fetch_historical_data(base_curr, quote_curr, start_time, end_time, granularity=86400):\n",
    "    \"\"\"\n",
    "    Fetches all available historical OHLCV data from Coinbase API.\n",
    "    \n",
    "    Args:\n",
    "    - base_curr (str): Cryptocurrency base (e.g., \"BTC\", \"ETH\").\n",
    "    - quote_curr (str): Cryptocurrency base (e.g., \"USDT\").\n",
    "    - start_time (str): Start date in \"YYYY-MM-DD\" format.\n",
    "    - end_time (str): End date in \"YYYY-MM-DD\" format.\n",
    "    - granularity (int): Timeframe in seconds (default: 86400 for daily data).\n",
    "    \n",
    "    Returns:\n",
    "    - pd.DataFrame: Dataframe containing all historical OHLCV data.\n",
    "    \"\"\"\n",
    "\n",
    "    # Convert symbol format (BTCUSDT -> BTC-USD)\n",
    "    pair = f\"{base_curr}-{quote_curr}\"\n",
    "\n",
    "    url = f\"https://api.exchange.coinbase.com/products/{pair}/candles\"\n",
    "    \n",
    "    # Convert start_time and end_time to datetime objects\n",
    "    start_dt = datetime.strptime(start_time, \"%Y-%m-%d\")\n",
    "    end_dt = datetime.strptime(end_time, \"%Y-%m-%d\")\n",
    "\n",
    "    all_data = []\n",
    "    \n",
    "    while start_dt < end_dt:\n",
    "        batch_end = min(end_dt, start_dt + timedelta(seconds=granularity * 300))\n",
    "        \n",
    "        params = {\n",
    "            \"granularity\": granularity,\n",
    "            \"start\": start_dt.strftime(\"%Y-%m-%dT%H:%M:%SZ\"),\n",
    "            \"end\": batch_end.strftime(\"%Y-%m-%dT%H:%M:%SZ\")\n",
    "        }\n",
    "\n",
    "        response = requests.get(url, params=params)\n",
    "        \n",
    "        if response.status_code != 200:\n",
    "            print(f\"Error: {response.status_code}, {response.text}\")\n",
    "            break\n",
    "\n",
    "        data = response.json()\n",
    "        \n",
    "        if not data:\n",
    "            print(\"No data found for this period.\")\n",
    "            break\n",
    "        \n",
    "        all_data.extend(data)\n",
    "        start_dt = batch_end + timedelta(seconds=granularity)\n",
    "\n",
    "    if not all_data:\n",
    "        print(\"No historical data available.\")\n",
    "        return None\n",
    "\n",
    "    # Convert to DataFrame\n",
    "    df = pd.DataFrame(all_data, columns=[\"timestamp\", \"low\", \"high\", \"open\", \"close\", \"volume\"])\n",
    "    df[\"timestamp\"] = pd.to_datetime(df[\"timestamp\"], unit=\"s\")\n",
    "    df = df.sort_values(\"timestamp\").reset_index(drop=True)\n",
    "\n",
    "    return df\n",
    "\n",
    "# Example Usage\n",
    "df = fetch_historical_data(\"btc\", \"usdt\", \"2025-01-01\", \"2025-03-15\")\n",
    "print(df.head())\n"
   ]
  },
  {
   "cell_type": "code",
   "execution_count": 63,
   "metadata": {},
   "outputs": [
    {
     "data": {
      "text/plain": [
       "0     94595.69\n",
       "1     97023.09\n",
       "2     98180.77\n",
       "3     98250.13\n",
       "4     98426.14\n",
       "        ...   \n",
       "69    82964.97\n",
       "70    83682.95\n",
       "71    81082.78\n",
       "72    83981.73\n",
       "73    84357.01\n",
       "Name: close, Length: 74, dtype: float64"
      ]
     },
     "execution_count": 63,
     "metadata": {},
     "output_type": "execute_result"
    }
   ],
   "source": [
    "df.close"
   ]
  },
  {
   "cell_type": "markdown",
   "metadata": {},
   "source": [
    "## Indicators "
   ]
  },
  {
   "cell_type": "code",
   "execution_count": null,
   "metadata": {},
   "outputs": [],
   "source": [
    "\n",
    "def sma(price, n):\n",
    "  return price.rolling(n).mean()\n",
    "def wma(price, n):\n",
    "  return price.ewm(com=n).mean()\n",
    "\n",
    "def highpass(Data, n=48):\n",
    "  a\t= (0.707*2*math.pi) / n\n",
    "\n",
    "  alpha1 = (math.cos(a)+math.sin(a)-1)/math.cos(a);\n",
    "  b\t= 1-alpha1/2\n",
    "  c\t= 1-alpha1\n",
    "\n",
    "  ret = [0] * len(Data)\n",
    "  for i in range(2, len(Data)):\n",
    "    ret[i] = b*b*(Data.iloc[i]-2*Data[i-1]+Data.iloc[i-2])+2*c*ret[i-1]-c*c*ret[i-2]\n",
    "\n",
    "  return pd.Series(ret, index=Data.index)\n",
    "\n",
    "def lowpass(Data,n):\n",
    "  a = 2.0/(1+n)\n",
    "\n",
    "  lp = [Data[0], Data[1]] + [0] * (len(Data) - 2)\n",
    "  for i in range(2, len(Data)):\n",
    "    lp[i] = (a-0.25*a*a)*Data[i]+ 0.5*a*a*Data[i-1]\\\n",
    "      - (a-0.75*a*a)*Data[i-2]\\\n",
    "      + 2*(1.-a)*lp[i-1]\\\n",
    "      - (1.-a)*(1.-a)*lp[i-2]\n",
    "\n",
    "  return pd.Series(lp, index=Data.index)\n",
    "\n",
    "def hullma(price, n):\n",
    "  wma1 = wma(price, n//2)\n",
    "  wma2 = wma(price, n)\n",
    "  return wma(wma1 * 2 - wma2, int(math.sqrt(n)))\n",
    "\n",
    "def zlma(price, n):\n",
    "  \"\"\"\n",
    "  John Ehlers' Zero lag (exponential) moving average\n",
    "  https://en.wikipedia.org/wiki/Zero_lag_exponential_moving_average\n",
    "  \"\"\"\n",
    "  lag = (n - 1) // 2\n",
    "  series = 2 * price - price.shift(lag)\n",
    "  return wma(series, n)\n",
    "\n",
    "\n",
    "def detrend(price, n):\n",
    "  return price - highpass(price, n)\n",
    "\n",
    "\n",
    "trends = {\n",
    "    'sma': sma,\n",
    "    'wma': wma,\n",
    "    'lowpass': lowpass,\n",
    "    'hullma': hullma,\n",
    "    'zlma': zlma,\n",
    "    'detrend': detrend,\n",
    "}"
   ]
  },
  {
   "cell_type": "code",
   "execution_count": 66,
   "metadata": {},
   "outputs": [],
   "source": [
    "ma_20 = df.close.rolling(20).mean()\n",
    "ma_60 = df.close.rolling(60).mean()"
   ]
  },
  {
   "cell_type": "code",
   "execution_count": null,
   "metadata": {},
   "outputs": [],
   "source": []
  }
 ],
 "metadata": {
  "kernelspec": {
   "display_name": "crypto",
   "language": "python",
   "name": "python3"
  },
  "language_info": {
   "codemirror_mode": {
    "name": "ipython",
    "version": 3
   },
   "file_extension": ".py",
   "mimetype": "text/x-python",
   "name": "python",
   "nbconvert_exporter": "python",
   "pygments_lexer": "ipython3",
   "version": "3.11.11"
  }
 },
 "nbformat": 4,
 "nbformat_minor": 2
}
