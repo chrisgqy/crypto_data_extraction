{
 "cells": [
  {
   "cell_type": "code",
   "execution_count": 1,
   "metadata": {},
   "outputs": [],
   "source": [
    "import pandas as pd\n",
    "import numpy as np\n",
    "import matplotlib.pyplot as plt"
   ]
  },
  {
   "cell_type": "code",
   "execution_count": 2,
   "metadata": {},
   "outputs": [],
   "source": [
    "def donchian_breakout(ohlc, lookback):\n",
    "    \n",
    "    upper = ohlc['close'].rolling(lookback - 1).max().shift(1)\n",
    "    lower = ohlc['close'].rolling(lookback - 1).min().shift(1)\n",
    "    \n",
    "    signal = pd.Series(np.full(len(ohlc), np.nan), index=ohlc.index)\n",
    "    \n",
    "    signal.loc[ohlc['close'] > upper] = 1\n",
    "    signal.loc[ohlc['close'] < lower] = -1\n",
    "    signal = signal.ffill()\n",
    "    \n",
    "    return signal"
   ]
  },
  {
   "cell_type": "code",
   "execution_count": 3,
   "metadata": {},
   "outputs": [],
   "source": [
    "df = pd.read_csv('data/btc_usdt_2021_2025.csv', index_col='timestamp', parse_dates=True)"
   ]
  },
  {
   "cell_type": "code",
   "execution_count": null,
   "metadata": {},
   "outputs": [
    {
     "data": {
      "text/html": [
       "<div>\n",
       "<style scoped>\n",
       "    .dataframe tbody tr th:only-of-type {\n",
       "        vertical-align: middle;\n",
       "    }\n",
       "\n",
       "    .dataframe tbody tr th {\n",
       "        vertical-align: top;\n",
       "    }\n",
       "\n",
       "    .dataframe thead th {\n",
       "        text-align: right;\n",
       "    }\n",
       "</style>\n",
       "<table border=\"1\" class=\"dataframe\">\n",
       "  <thead>\n",
       "    <tr style=\"text-align: right;\">\n",
       "      <th></th>\n",
       "      <th>low</th>\n",
       "      <th>high</th>\n",
       "      <th>open</th>\n",
       "      <th>close</th>\n",
       "      <th>volume</th>\n",
       "    </tr>\n",
       "    <tr>\n",
       "      <th>timestamp</th>\n",
       "      <th></th>\n",
       "      <th></th>\n",
       "      <th></th>\n",
       "      <th></th>\n",
       "      <th></th>\n",
       "    </tr>\n",
       "  </thead>\n",
       "  <tbody>\n",
       "    <tr>\n",
       "      <th>2021-05-04</th>\n",
       "      <td>53053.87</td>\n",
       "      <td>56617.70</td>\n",
       "      <td>55608.40</td>\n",
       "      <td>53053.87</td>\n",
       "      <td>253.462479</td>\n",
       "    </tr>\n",
       "    <tr>\n",
       "      <th>2021-05-05</th>\n",
       "      <td>52938.80</td>\n",
       "      <td>57933.11</td>\n",
       "      <td>53042.22</td>\n",
       "      <td>57486.84</td>\n",
       "      <td>269.341235</td>\n",
       "    </tr>\n",
       "    <tr>\n",
       "      <th>2021-05-06</th>\n",
       "      <td>55262.28</td>\n",
       "      <td>58361.40</td>\n",
       "      <td>57496.57</td>\n",
       "      <td>56409.60</td>\n",
       "      <td>468.837606</td>\n",
       "    </tr>\n",
       "    <tr>\n",
       "      <th>2021-05-07</th>\n",
       "      <td>55255.20</td>\n",
       "      <td>58649.79</td>\n",
       "      <td>56429.60</td>\n",
       "      <td>57330.60</td>\n",
       "      <td>456.679212</td>\n",
       "    </tr>\n",
       "    <tr>\n",
       "      <th>2021-05-08</th>\n",
       "      <td>56959.23</td>\n",
       "      <td>59492.81</td>\n",
       "      <td>57353.12</td>\n",
       "      <td>58865.94</td>\n",
       "      <td>348.770017</td>\n",
       "    </tr>\n",
       "  </tbody>\n",
       "</table>\n",
       "</div>"
      ],
      "text/plain": [
       "                 low      high      open     close      volume\n",
       "timestamp                                                     \n",
       "2021-05-04  53053.87  56617.70  55608.40  53053.87  253.462479\n",
       "2021-05-05  52938.80  57933.11  53042.22  57486.84  269.341235\n",
       "2021-05-06  55262.28  58361.40  57496.57  56409.60  468.837606\n",
       "2021-05-07  55255.20  58649.79  56429.60  57330.60  456.679212\n",
       "2021-05-08  56959.23  59492.81  57353.12  58865.94  348.770017"
      ]
     },
     "execution_count": 5,
     "metadata": {},
     "output_type": "execute_result"
    }
   ],
   "source": []
  },
  {
   "cell_type": "code",
   "execution_count": null,
   "metadata": {},
   "outputs": [],
   "source": []
  }
 ],
 "metadata": {
  "kernelspec": {
   "display_name": "crypto",
   "language": "python",
   "name": "python3"
  },
  "language_info": {
   "codemirror_mode": {
    "name": "ipython",
    "version": 3
   },
   "file_extension": ".py",
   "mimetype": "text/x-python",
   "name": "python",
   "nbconvert_exporter": "python",
   "pygments_lexer": "ipython3",
   "version": "3.12.9"
  }
 },
 "nbformat": 4,
 "nbformat_minor": 2
}
